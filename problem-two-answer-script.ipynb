{
 "cells": [
  {
   "cell_type": "code",
   "execution_count": 2,
   "metadata": {},
   "outputs": [],
   "source": [
    "import pandas as pd\n",
    "import numpy as np\n",
    "import matplotlib.pyplot as plt\n",
    "%matplotlib inline"
   ]
  },
  {
   "cell_type": "markdown",
   "metadata": {},
   "source": [
    "# TO GET THE CSV SCROLL DOWN AND RUN CELL"
   ]
  },
  {
   "cell_type": "code",
   "execution_count": 267,
   "metadata": {},
   "outputs": [],
   "source": [
    "tran=pd.read_csv('transaction.csv',parse_dates=['DATE'])\n",
    "price=pd.read_csv('pricing.csv',parse_dates=['DATE'])\n",
    "act=pd.read_csv('activity.csv',parse_dates=['DATE'])\n",
    "mark=pd.read_csv('marketing.csv',parse_dates=['DATE'])"
   ]
  },
  {
   "cell_type": "code",
   "execution_count": 268,
   "metadata": {},
   "outputs": [
    {
     "data": {
      "text/html": [
       "<div>\n",
       "<style scoped>\n",
       "    .dataframe tbody tr th:only-of-type {\n",
       "        vertical-align: middle;\n",
       "    }\n",
       "\n",
       "    .dataframe tbody tr th {\n",
       "        vertical-align: top;\n",
       "    }\n",
       "\n",
       "    .dataframe thead th {\n",
       "        text-align: right;\n",
       "    }\n",
       "</style>\n",
       "<table border=\"1\" class=\"dataframe\">\n",
       "  <thead>\n",
       "    <tr style=\"text-align: right;\">\n",
       "      <th></th>\n",
       "      <th>DATE</th>\n",
       "      <th>USERID</th>\n",
       "      <th>PRICE</th>\n",
       "      <th>UNITS</th>\n",
       "      <th>TOTAL</th>\n",
       "    </tr>\n",
       "  </thead>\n",
       "  <tbody>\n",
       "    <tr>\n",
       "      <th>0</th>\n",
       "      <td>2015-04-03</td>\n",
       "      <td>1052</td>\n",
       "      <td>4.0</td>\n",
       "      <td>1</td>\n",
       "      <td>4.0</td>\n",
       "    </tr>\n",
       "    <tr>\n",
       "      <th>1</th>\n",
       "      <td>2015-04-03</td>\n",
       "      <td>1059</td>\n",
       "      <td>4.0</td>\n",
       "      <td>2</td>\n",
       "      <td>8.0</td>\n",
       "    </tr>\n",
       "  </tbody>\n",
       "</table>\n",
       "</div>"
      ],
      "text/plain": [
       "        DATE  USERID  PRICE  UNITS  TOTAL\n",
       "0 2015-04-03    1052    4.0      1    4.0\n",
       "1 2015-04-03    1059    4.0      2    8.0"
      ]
     },
     "execution_count": 268,
     "metadata": {},
     "output_type": "execute_result"
    }
   ],
   "source": [
    "tran.head(2)"
   ]
  },
  {
   "cell_type": "code",
   "execution_count": 269,
   "metadata": {},
   "outputs": [],
   "source": [
    "######################## Features Creation Part of my exploration  ############################################################"
   ]
  },
  {
   "cell_type": "code",
   "execution_count": 270,
   "metadata": {},
   "outputs": [],
   "source": [
    "act=pd.get_dummies(act, columns=['ACTIVITY'])"
   ]
  },
  {
   "cell_type": "code",
   "execution_count": 271,
   "metadata": {},
   "outputs": [],
   "source": [
    "from math import ceil\n",
    "def week_of_month(dt):\n",
    "    if (100*dt.year + dt.month)<201607:\n",
    "        first_day = dt.replace(day=1)\n",
    "        dom = dt.day\n",
    "        adjusted_dom = dom + first_day.weekday()\n",
    "        return int(ceil(adjusted_dom/7.0))\n",
    "    else:\n",
    "        return 5"
   ]
  },
  {
   "cell_type": "code",
   "execution_count": 272,
   "metadata": {},
   "outputs": [],
   "source": [
    "act['week_of_month']=act['DATE'].apply(week_of_month)\n",
    "act['day_of_month']=act['DATE'].apply(lambda x:x.day if (100*x.year + x.month)<201607 else 30)\n",
    "tran['week_of_month']=tran['DATE'].apply(week_of_month)\n",
    "tran['day_of_month']=tran['DATE'].apply(lambda x:x.day if (100*x.year + x.month)<201607 else 30)\n",
    "act['month_of_yr']=act['DATE'].map(lambda DATE: 100*DATE.year + DATE.month if((100*DATE.year + DATE.month)<201607) else 201606)\n",
    "tran['month_of_yr']=tran['DATE'].map(lambda DATE: 100*DATE.year + DATE.month if((100*DATE.year + DATE.month)<201607) else 201606)"
   ]
  },
  {
   "cell_type": "code",
   "execution_count": 273,
   "metadata": {},
   "outputs": [],
   "source": [
    "logincount_wom=act.groupby(['month_of_yr','week_of_month','USERID'])['ACTIVITY_logged in'].sum().reset_index()\n",
    "logincount_m=act.groupby(['month_of_yr','USERID'])['ACTIVITY_logged in'].sum().reset_index()\n",
    "logincount_m=logincount_m.rename(columns = {'ACTIVITY_logged in':'monthly_lc'})\n",
    "logincount_wom=logincount_wom.rename(columns = {'ACTIVITY_logged in':'weekly_lc'})"
   ]
  },
  {
   "cell_type": "code",
   "execution_count": 274,
   "metadata": {},
   "outputs": [],
   "source": [
    "act = pd.merge(act,logincount_wom, on=['USERID','month_of_yr','week_of_month'],how='left')\n",
    "act = pd.merge(act,logincount_m, on=['USERID','month_of_yr'],how='left')\n",
    "revenue_upm=tran.groupby(['USERID','month_of_yr'])['TOTAL'].sum().reset_index()\n",
    "revenue_upw=tran.groupby(['USERID','month_of_yr','week_of_month'])['TOTAL'].sum().reset_index()\n",
    "monthly_avg=tran.groupby(['USERID','month_of_yr'])['TOTAL'].mean().reset_index()\n",
    "weekly_avg=tran.groupby(['USERID','month_of_yr','week_of_month'])['TOTAL'].mean().reset_index()\n",
    "revenue_upm=revenue_upm.rename(columns = {'TOTAL':'revenue_upm'})\n",
    "revenue_upw=revenue_upw.rename(columns = {'TOTAL':'revenue_upw'})\n",
    "monthly_avg=monthly_avg.rename(columns = {'TOTAL':'monthly_avg'})\n",
    "weekly_avg=weekly_avg.rename(columns = {'TOTAL':'weekly_avg'})"
   ]
  },
  {
   "cell_type": "code",
   "execution_count": 275,
   "metadata": {},
   "outputs": [],
   "source": [
    "data = pd.merge(act,revenue_upm, on=['USERID','month_of_yr'],how='left')\n",
    "data = pd.merge(data,revenue_upw, on=['USERID','month_of_yr','week_of_month'],how='left')\n",
    "data = pd.merge(data,monthly_avg, on=['USERID','month_of_yr'],how='left')\n",
    "data = pd.merge(data,weekly_avg, on=['USERID','month_of_yr','week_of_month'],how='left')\n",
    "data=data.fillna(0)"
   ]
  },
  {
   "cell_type": "code",
   "execution_count": 276,
   "metadata": {},
   "outputs": [
    {
     "data": {
      "text/html": [
       "<div>\n",
       "<style scoped>\n",
       "    .dataframe tbody tr th:only-of-type {\n",
       "        vertical-align: middle;\n",
       "    }\n",
       "\n",
       "    .dataframe tbody tr th {\n",
       "        vertical-align: top;\n",
       "    }\n",
       "\n",
       "    .dataframe thead th {\n",
       "        text-align: right;\n",
       "    }\n",
       "</style>\n",
       "<table border=\"1\" class=\"dataframe\">\n",
       "  <thead>\n",
       "    <tr style=\"text-align: right;\">\n",
       "      <th></th>\n",
       "      <th>DATE</th>\n",
       "      <th>USERID</th>\n",
       "      <th>ACTIVITY_created account</th>\n",
       "      <th>ACTIVITY_logged in</th>\n",
       "      <th>week_of_month</th>\n",
       "      <th>day_of_month</th>\n",
       "      <th>month_of_yr</th>\n",
       "      <th>weekly_lc</th>\n",
       "      <th>monthly_lc</th>\n",
       "      <th>revenue_upm</th>\n",
       "      <th>revenue_upw</th>\n",
       "      <th>monthly_avg</th>\n",
       "      <th>weekly_avg</th>\n",
       "    </tr>\n",
       "  </thead>\n",
       "  <tbody>\n",
       "    <tr>\n",
       "      <th>0</th>\n",
       "      <td>2015-04-03</td>\n",
       "      <td>1000</td>\n",
       "      <td>1</td>\n",
       "      <td>0</td>\n",
       "      <td>1</td>\n",
       "      <td>3</td>\n",
       "      <td>201504</td>\n",
       "      <td>3</td>\n",
       "      <td>24</td>\n",
       "      <td>32.0</td>\n",
       "      <td>0.0</td>\n",
       "      <td>4.000000</td>\n",
       "      <td>0.0</td>\n",
       "    </tr>\n",
       "    <tr>\n",
       "      <th>1</th>\n",
       "      <td>2015-04-03</td>\n",
       "      <td>1000</td>\n",
       "      <td>0</td>\n",
       "      <td>1</td>\n",
       "      <td>1</td>\n",
       "      <td>3</td>\n",
       "      <td>201504</td>\n",
       "      <td>3</td>\n",
       "      <td>24</td>\n",
       "      <td>32.0</td>\n",
       "      <td>0.0</td>\n",
       "      <td>4.000000</td>\n",
       "      <td>0.0</td>\n",
       "    </tr>\n",
       "    <tr>\n",
       "      <th>2</th>\n",
       "      <td>2015-04-03</td>\n",
       "      <td>1001</td>\n",
       "      <td>1</td>\n",
       "      <td>0</td>\n",
       "      <td>1</td>\n",
       "      <td>3</td>\n",
       "      <td>201504</td>\n",
       "      <td>2</td>\n",
       "      <td>18</td>\n",
       "      <td>22.0</td>\n",
       "      <td>0.0</td>\n",
       "      <td>7.333333</td>\n",
       "      <td>0.0</td>\n",
       "    </tr>\n",
       "    <tr>\n",
       "      <th>3</th>\n",
       "      <td>2015-04-03</td>\n",
       "      <td>1001</td>\n",
       "      <td>0</td>\n",
       "      <td>1</td>\n",
       "      <td>1</td>\n",
       "      <td>3</td>\n",
       "      <td>201504</td>\n",
       "      <td>2</td>\n",
       "      <td>18</td>\n",
       "      <td>22.0</td>\n",
       "      <td>0.0</td>\n",
       "      <td>7.333333</td>\n",
       "      <td>0.0</td>\n",
       "    </tr>\n",
       "    <tr>\n",
       "      <th>4</th>\n",
       "      <td>2015-04-03</td>\n",
       "      <td>1002</td>\n",
       "      <td>1</td>\n",
       "      <td>0</td>\n",
       "      <td>1</td>\n",
       "      <td>3</td>\n",
       "      <td>201504</td>\n",
       "      <td>2</td>\n",
       "      <td>20</td>\n",
       "      <td>24.0</td>\n",
       "      <td>0.0</td>\n",
       "      <td>12.000000</td>\n",
       "      <td>0.0</td>\n",
       "    </tr>\n",
       "  </tbody>\n",
       "</table>\n",
       "</div>"
      ],
      "text/plain": [
       "        DATE  USERID  ACTIVITY_created account  ACTIVITY_logged in  \\\n",
       "0 2015-04-03    1000                         1                   0   \n",
       "1 2015-04-03    1000                         0                   1   \n",
       "2 2015-04-03    1001                         1                   0   \n",
       "3 2015-04-03    1001                         0                   1   \n",
       "4 2015-04-03    1002                         1                   0   \n",
       "\n",
       "   week_of_month  day_of_month  month_of_yr  weekly_lc  monthly_lc  \\\n",
       "0              1             3       201504          3          24   \n",
       "1              1             3       201504          3          24   \n",
       "2              1             3       201504          2          18   \n",
       "3              1             3       201504          2          18   \n",
       "4              1             3       201504          2          20   \n",
       "\n",
       "   revenue_upm  revenue_upw  monthly_avg  weekly_avg  \n",
       "0         32.0          0.0     4.000000         0.0  \n",
       "1         32.0          0.0     4.000000         0.0  \n",
       "2         22.0          0.0     7.333333         0.0  \n",
       "3         22.0          0.0     7.333333         0.0  \n",
       "4         24.0          0.0    12.000000         0.0  "
      ]
     },
     "execution_count": 276,
     "metadata": {},
     "output_type": "execute_result"
    }
   ],
   "source": [
    "data.head()"
   ]
  },
  {
   "cell_type": "code",
   "execution_count": 277,
   "metadata": {},
   "outputs": [],
   "source": [
    "log_info=data[data['ACTIVITY_created account']==1].reset_index()\n",
    "log_info=log_info[['USERID','DATE']]\n",
    "log_info=log_info.rename(columns = {'DATE':'ac_created_on'})"
   ]
  },
  {
   "cell_type": "code",
   "execution_count": 278,
   "metadata": {},
   "outputs": [],
   "source": [
    "log_info['week_of_create']=log_info['ac_created_on'].apply(week_of_month)\n",
    "log_info['day_of_create']=log_info['ac_created_on'].apply(lambda x:x.day if (100*x.year + x.month)<201607 else 30)\n",
    "log_info['month_of_create']=log_info['ac_created_on'].map(lambda ac_created_on: 100*ac_created_on.year + ac_created_on.month)\n",
    "log_info=log_info.drop('ac_created_on',1)"
   ]
  },
  {
   "cell_type": "code",
   "execution_count": 279,
   "metadata": {},
   "outputs": [],
   "source": [
    "newdata=data.drop(['DATE','ACTIVITY_created account','ACTIVITY_logged in','week_of_month','day_of_month'],1)\n",
    "newdata=newdata.drop_duplicates(keep=\"first\", inplace=False).reset_index()\n",
    "newdata=newdata.drop('index',1)"
   ]
  },
  {
   "cell_type": "code",
   "execution_count": 280,
   "metadata": {},
   "outputs": [],
   "source": [
    "log_freq_sum=newdata.groupby(['USERID','month_of_yr'])['weekly_lc','monthly_lc','revenue_upm','revenue_upw'].sum().reset_index()\n",
    "log_freq_avg=newdata.groupby(['USERID','month_of_yr'])['weekly_lc','monthly_lc','revenue_upm','revenue_upw'].mean().reset_index()"
   ]
  },
  {
   "cell_type": "code",
   "execution_count": 281,
   "metadata": {},
   "outputs": [],
   "source": [
    "log_freq_sum=log_freq_sum.rename(columns = {'weekly_lc':'sum_weekly_lc','monthly_lc':'sum_monthly_lc','revenue_upm':'t_revenue_upm','revenue_upw':'t_revenue_upw'})\n",
    "log_freq_avg=log_freq_avg.rename(columns = {'weekly_lc':'avg_weekly_lc','monthly_lc':'avg_monthly_lc','revenue_upm':'avg_revenue_upm','revenue_upw':'avg_revenue_upw'})"
   ]
  },
  {
   "cell_type": "code",
   "execution_count": 282,
   "metadata": {},
   "outputs": [],
   "source": [
    "log_freq_info = pd.merge(log_freq_sum,log_freq_avg, on=['USERID','month_of_yr'],how='left')"
   ]
  },
  {
   "cell_type": "code",
   "execution_count": 283,
   "metadata": {},
   "outputs": [
    {
     "data": {
      "text/html": [
       "<div>\n",
       "<style scoped>\n",
       "    .dataframe tbody tr th:only-of-type {\n",
       "        vertical-align: middle;\n",
       "    }\n",
       "\n",
       "    .dataframe tbody tr th {\n",
       "        vertical-align: top;\n",
       "    }\n",
       "\n",
       "    .dataframe thead th {\n",
       "        text-align: right;\n",
       "    }\n",
       "</style>\n",
       "<table border=\"1\" class=\"dataframe\">\n",
       "  <thead>\n",
       "    <tr style=\"text-align: right;\">\n",
       "      <th></th>\n",
       "      <th>USERID</th>\n",
       "      <th>month_of_yr</th>\n",
       "      <th>sum_weekly_lc</th>\n",
       "      <th>sum_monthly_lc</th>\n",
       "      <th>t_revenue_upm</th>\n",
       "      <th>t_revenue_upw</th>\n",
       "      <th>avg_weekly_lc</th>\n",
       "      <th>avg_monthly_lc</th>\n",
       "      <th>avg_revenue_upm</th>\n",
       "      <th>avg_revenue_upw</th>\n",
       "    </tr>\n",
       "  </thead>\n",
       "  <tbody>\n",
       "    <tr>\n",
       "      <th>0</th>\n",
       "      <td>1000</td>\n",
       "      <td>201504</td>\n",
       "      <td>21</td>\n",
       "      <td>96</td>\n",
       "      <td>128.0</td>\n",
       "      <td>32.0</td>\n",
       "      <td>5.25</td>\n",
       "      <td>24.0</td>\n",
       "      <td>32.0</td>\n",
       "      <td>8.00</td>\n",
       "    </tr>\n",
       "    <tr>\n",
       "      <th>1</th>\n",
       "      <td>1000</td>\n",
       "      <td>201505</td>\n",
       "      <td>20</td>\n",
       "      <td>80</td>\n",
       "      <td>108.0</td>\n",
       "      <td>27.0</td>\n",
       "      <td>5.00</td>\n",
       "      <td>20.0</td>\n",
       "      <td>27.0</td>\n",
       "      <td>6.75</td>\n",
       "    </tr>\n",
       "  </tbody>\n",
       "</table>\n",
       "</div>"
      ],
      "text/plain": [
       "   USERID  month_of_yr  sum_weekly_lc  sum_monthly_lc  t_revenue_upm  \\\n",
       "0    1000       201504             21              96          128.0   \n",
       "1    1000       201505             20              80          108.0   \n",
       "\n",
       "   t_revenue_upw  avg_weekly_lc  avg_monthly_lc  avg_revenue_upm  \\\n",
       "0           32.0           5.25            24.0             32.0   \n",
       "1           27.0           5.00            20.0             27.0   \n",
       "\n",
       "   avg_revenue_upw  \n",
       "0             8.00  \n",
       "1             6.75  "
      ]
     },
     "execution_count": 283,
     "metadata": {},
     "output_type": "execute_result"
    }
   ],
   "source": [
    "log_freq_info.head(2)"
   ]
  },
  {
   "cell_type": "code",
   "execution_count": 284,
   "metadata": {},
   "outputs": [
    {
     "data": {
      "text/html": [
       "<div>\n",
       "<style scoped>\n",
       "    .dataframe tbody tr th:only-of-type {\n",
       "        vertical-align: middle;\n",
       "    }\n",
       "\n",
       "    .dataframe tbody tr th {\n",
       "        vertical-align: top;\n",
       "    }\n",
       "\n",
       "    .dataframe thead th {\n",
       "        text-align: right;\n",
       "    }\n",
       "</style>\n",
       "<table border=\"1\" class=\"dataframe\">\n",
       "  <thead>\n",
       "    <tr style=\"text-align: right;\">\n",
       "      <th></th>\n",
       "      <th>USERID</th>\n",
       "      <th>week_of_create</th>\n",
       "      <th>day_of_create</th>\n",
       "      <th>month_of_create</th>\n",
       "    </tr>\n",
       "  </thead>\n",
       "  <tbody>\n",
       "    <tr>\n",
       "      <th>0</th>\n",
       "      <td>1000</td>\n",
       "      <td>1</td>\n",
       "      <td>3</td>\n",
       "      <td>201504</td>\n",
       "    </tr>\n",
       "    <tr>\n",
       "      <th>1</th>\n",
       "      <td>1001</td>\n",
       "      <td>1</td>\n",
       "      <td>3</td>\n",
       "      <td>201504</td>\n",
       "    </tr>\n",
       "  </tbody>\n",
       "</table>\n",
       "</div>"
      ],
      "text/plain": [
       "   USERID  week_of_create  day_of_create  month_of_create\n",
       "0    1000               1              3           201504\n",
       "1    1001               1              3           201504"
      ]
     },
     "execution_count": 284,
     "metadata": {},
     "output_type": "execute_result"
    }
   ],
   "source": [
    "log_info.head(2)"
   ]
  },
  {
   "cell_type": "code",
   "execution_count": 285,
   "metadata": {},
   "outputs": [],
   "source": [
    "log_data=pd.merge(log_freq_info,log_info, on=['USERID'],how='left')"
   ]
  },
  {
   "cell_type": "code",
   "execution_count": 286,
   "metadata": {},
   "outputs": [],
   "source": [
    "# data=data.drop(['DATE','ACTIVITY_created account','ACTIVITY_logged in'],1)\n",
    "# data=data.drop_duplicates(keep=\"first\", inplace=False).reset_index()"
   ]
  },
  {
   "cell_type": "code",
   "execution_count": 287,
   "metadata": {},
   "outputs": [],
   "source": [
    "# data=data.drop('index',1)"
   ]
  },
  {
   "cell_type": "code",
   "execution_count": 288,
   "metadata": {},
   "outputs": [],
   "source": [
    "# def usertype(ym,cm):\n",
    "#     if ym==cm:\n",
    "#         return 'new'\n",
    "#     else:\n",
    "#         return 'old'   "
   ]
  },
  {
   "cell_type": "code",
   "execution_count": 289,
   "metadata": {},
   "outputs": [],
   "source": [
    "# new_user=data[data['ACTIVITY_created account']==1].reset_index()\n",
    "# new_user=new_user[['USERID','month_of_yr']]\n",
    "# new_user=new_user.rename(columns = {'month_of_yr':'ac_creat_month'})\n",
    "# data = pd.merge(data,new_user, on=['USERID'],how='left')"
   ]
  },
  {
   "cell_type": "code",
   "execution_count": 290,
   "metadata": {},
   "outputs": [],
   "source": [
    "# data['user_type']=data.apply(lambda row : usertype(row['month_of_yr'],row['ac_creat_month']), axis = 1)"
   ]
  },
  {
   "cell_type": "code",
   "execution_count": 291,
   "metadata": {},
   "outputs": [],
   "source": [
    "# df=data.drop_duplicates(keep=\"first\", inplace=False).reset_index()\n",
    "# df=df.drop('index',1)"
   ]
  },
  {
   "cell_type": "code",
   "execution_count": 292,
   "metadata": {},
   "outputs": [],
   "source": [
    "result=pd.read_csv('problem-two-new-users.csv',header=None)\n",
    "result=result.rename(columns = {0:'USERID'})\n",
    "test=pd.merge(result,log_data, on=['USERID'],how='left')"
   ]
  },
  {
   "cell_type": "code",
   "execution_count": 293,
   "metadata": {},
   "outputs": [],
   "source": [
    "######################################################## Creating target variable###############################################"
   ]
  },
  {
   "cell_type": "code",
   "execution_count": 294,
   "metadata": {},
   "outputs": [
    {
     "data": {
      "text/html": [
       "<div>\n",
       "<style scoped>\n",
       "    .dataframe tbody tr th:only-of-type {\n",
       "        vertical-align: middle;\n",
       "    }\n",
       "\n",
       "    .dataframe tbody tr th {\n",
       "        vertical-align: top;\n",
       "    }\n",
       "\n",
       "    .dataframe thead th {\n",
       "        text-align: right;\n",
       "    }\n",
       "</style>\n",
       "<table border=\"1\" class=\"dataframe\">\n",
       "  <thead>\n",
       "    <tr style=\"text-align: right;\">\n",
       "      <th></th>\n",
       "      <th>USERID</th>\n",
       "      <th>month_of_yr</th>\n",
       "      <th>sum_weekly_lc</th>\n",
       "      <th>sum_monthly_lc</th>\n",
       "      <th>t_revenue_upm</th>\n",
       "      <th>t_revenue_upw</th>\n",
       "      <th>avg_weekly_lc</th>\n",
       "      <th>avg_monthly_lc</th>\n",
       "      <th>avg_revenue_upm</th>\n",
       "      <th>avg_revenue_upw</th>\n",
       "      <th>week_of_create</th>\n",
       "      <th>day_of_create</th>\n",
       "      <th>month_of_create</th>\n",
       "    </tr>\n",
       "  </thead>\n",
       "  <tbody>\n",
       "    <tr>\n",
       "      <th>0</th>\n",
       "      <td>1000</td>\n",
       "      <td>201504</td>\n",
       "      <td>21</td>\n",
       "      <td>96</td>\n",
       "      <td>128.0</td>\n",
       "      <td>32.0</td>\n",
       "      <td>5.25</td>\n",
       "      <td>24.0</td>\n",
       "      <td>32.0</td>\n",
       "      <td>8.00</td>\n",
       "      <td>1</td>\n",
       "      <td>3</td>\n",
       "      <td>201504</td>\n",
       "    </tr>\n",
       "    <tr>\n",
       "      <th>1</th>\n",
       "      <td>1000</td>\n",
       "      <td>201505</td>\n",
       "      <td>20</td>\n",
       "      <td>80</td>\n",
       "      <td>108.0</td>\n",
       "      <td>27.0</td>\n",
       "      <td>5.00</td>\n",
       "      <td>20.0</td>\n",
       "      <td>27.0</td>\n",
       "      <td>6.75</td>\n",
       "      <td>1</td>\n",
       "      <td>3</td>\n",
       "      <td>201504</td>\n",
       "    </tr>\n",
       "    <tr>\n",
       "      <th>2</th>\n",
       "      <td>1001</td>\n",
       "      <td>201504</td>\n",
       "      <td>13</td>\n",
       "      <td>72</td>\n",
       "      <td>88.0</td>\n",
       "      <td>18.0</td>\n",
       "      <td>3.25</td>\n",
       "      <td>18.0</td>\n",
       "      <td>22.0</td>\n",
       "      <td>4.50</td>\n",
       "      <td>1</td>\n",
       "      <td>3</td>\n",
       "      <td>201504</td>\n",
       "    </tr>\n",
       "    <tr>\n",
       "      <th>3</th>\n",
       "      <td>1001</td>\n",
       "      <td>201505</td>\n",
       "      <td>15</td>\n",
       "      <td>76</td>\n",
       "      <td>92.0</td>\n",
       "      <td>19.0</td>\n",
       "      <td>3.75</td>\n",
       "      <td>19.0</td>\n",
       "      <td>23.0</td>\n",
       "      <td>4.75</td>\n",
       "      <td>1</td>\n",
       "      <td>3</td>\n",
       "      <td>201504</td>\n",
       "    </tr>\n",
       "    <tr>\n",
       "      <th>4</th>\n",
       "      <td>1001</td>\n",
       "      <td>201506</td>\n",
       "      <td>23</td>\n",
       "      <td>115</td>\n",
       "      <td>170.0</td>\n",
       "      <td>34.0</td>\n",
       "      <td>4.60</td>\n",
       "      <td>23.0</td>\n",
       "      <td>34.0</td>\n",
       "      <td>6.80</td>\n",
       "      <td>1</td>\n",
       "      <td>3</td>\n",
       "      <td>201504</td>\n",
       "    </tr>\n",
       "  </tbody>\n",
       "</table>\n",
       "</div>"
      ],
      "text/plain": [
       "   USERID  month_of_yr  sum_weekly_lc  sum_monthly_lc  t_revenue_upm  \\\n",
       "0    1000       201504             21              96          128.0   \n",
       "1    1000       201505             20              80          108.0   \n",
       "2    1001       201504             13              72           88.0   \n",
       "3    1001       201505             15              76           92.0   \n",
       "4    1001       201506             23             115          170.0   \n",
       "\n",
       "   t_revenue_upw  avg_weekly_lc  avg_monthly_lc  avg_revenue_upm  \\\n",
       "0           32.0           5.25            24.0             32.0   \n",
       "1           27.0           5.00            20.0             27.0   \n",
       "2           18.0           3.25            18.0             22.0   \n",
       "3           19.0           3.75            19.0             23.0   \n",
       "4           34.0           4.60            23.0             34.0   \n",
       "\n",
       "   avg_revenue_upw  week_of_create  day_of_create  month_of_create  \n",
       "0             8.00               1              3           201504  \n",
       "1             6.75               1              3           201504  \n",
       "2             4.50               1              3           201504  \n",
       "3             4.75               1              3           201504  \n",
       "4             6.80               1              3           201504  "
      ]
     },
     "execution_count": 294,
     "metadata": {},
     "output_type": "execute_result"
    }
   ],
   "source": [
    "log_data.head()"
   ]
  },
  {
   "cell_type": "code",
   "execution_count": 295,
   "metadata": {},
   "outputs": [],
   "source": [
    "df=log_data"
   ]
  },
  {
   "cell_type": "code",
   "execution_count": 296,
   "metadata": {},
   "outputs": [],
   "source": [
    "train=pd.DataFrame()\n",
    "for ym in list(set(df['month_of_yr'])):\n",
    "    if ym+4<=201512:\n",
    "        tym=ym+4\n",
    "        temp_data=df[df['month_of_yr']<tym]\n",
    "        temp_x1=temp_data[(temp_data['month_of_yr']==ym) & (temp_data['month_of_create']==ym)]\n",
    "        temp_y1=temp_data[(temp_data['month_of_yr']>ym) & (temp_data['month_of_create']==ym)].groupby(['USERID'])['t_revenue_upm'].sum().reset_index()\n",
    "        temp_y1 =temp_y1.rename(columns = {'t_revenue_upm':'high_value'})\n",
    "        train_data=pd.merge(temp_x1, temp_y1, on='USERID', how='left')\n",
    "#         train_data['high_value'] = train_data.apply(lambda row : high_value(row['high_value']), axis = 1)\n",
    "        if len(train)==0:\n",
    "            train=train_data\n",
    "        else:\n",
    "            train=pd.concat([train,train_data])\n",
    "\n",
    "    if ym+4>201512 and ym<=201512:\n",
    "        tym=201600\n",
    "        temp_data=df[df['month_of_yr']<tym+4-(201512-ym)]\n",
    "        temp_x1=temp_data[(temp_data['month_of_yr']==ym) & (temp_data['month_of_create']==ym)]\n",
    "        temp_y1=temp_data[(temp_data['month_of_yr']>ym) & (temp_data['month_of_create']==ym)].groupby(['USERID'])['t_revenue_upm'].sum().reset_index()\n",
    "        temp_y1 =temp_y1.rename(columns = {'t_revenue_upm':'high_value'})\n",
    "        train_data=pd.merge(temp_x1, temp_y1, on='USERID', how='left')\n",
    "#         train_data['high_value'] = train_data.apply(lambda row : high_value(row['high_value']), axis = 1)\n",
    "        if len(train)==0:\n",
    "            train=train_data\n",
    "        else:\n",
    "            train=pd.concat([train,train_data])\n",
    "    \n",
    "    if  ym>201512 and ym<201603:\n",
    "        temp_data=df[df['month_of_yr']<ym+4]\n",
    "        temp_x1=temp_data[(temp_data['month_of_yr']==ym) & (temp_data['month_of_create']==ym)]\n",
    "        temp_y1=temp_data[(temp_data['month_of_yr']>ym) & (temp_data['month_of_create']==ym)].groupby(['USERID'])['t_revenue_upm'].sum().reset_index()\n",
    "        temp_y1 =temp_y1.rename(columns = {'t_revenue_upm':'high_value'})\n",
    "        train_data=pd.merge(temp_x1, temp_y1, on='USERID', how='left')\n",
    "#         train_data['high_value'] = train_data.apply(lambda row : high_value(row['high_value']), axis = 1)\n",
    "        if len(train)==0:\n",
    "            train=train_data\n",
    "        else:\n",
    "            train=pd.concat([train,train_data])\n",
    "    if  ym>201512 and ym==201603:\n",
    "        temp_data=df[df['month_of_yr']>=ym]\n",
    "        temp_x1=temp_data[(temp_data['month_of_yr']==ym) & (temp_data['month_of_create']==ym)]\n",
    "        temp_y1=temp_data[(temp_data['month_of_yr']>ym) & (temp_data['month_of_create']==ym)].groupby(['USERID'])['t_revenue_upm'].sum().reset_index()\n",
    "        temp_y1 =temp_y1.rename(columns = {'t_revenue_upm':'high_value'})\n",
    "        train_data=pd.merge(temp_x1, temp_y1, on='USERID', how='left')\n",
    "#         train_data['high_value'] = train_data.apply(lambda row : high_value(row['high_value']), axis = 1)\n",
    "        if len(train)==0:\n",
    "            train=train_data\n",
    "        else:\n",
    "            train=pd.concat([train,train_data])"
   ]
  },
  {
   "cell_type": "code",
   "execution_count": 297,
   "metadata": {},
   "outputs": [
    {
     "data": {
      "text/plain": [
       "USERID             0\n",
       "month_of_yr        0\n",
       "sum_weekly_lc      0\n",
       "sum_monthly_lc     0\n",
       "t_revenue_upm      0\n",
       "t_revenue_upw      0\n",
       "avg_weekly_lc      0\n",
       "avg_monthly_lc     0\n",
       "avg_revenue_upm    0\n",
       "avg_revenue_upw    0\n",
       "week_of_create     0\n",
       "day_of_create      0\n",
       "month_of_create    0\n",
       "high_value         0\n",
       "dtype: int64"
      ]
     },
     "execution_count": 297,
     "metadata": {},
     "output_type": "execute_result"
    }
   ],
   "source": [
    "train=train.fillna(0)\n",
    "train.isna().sum()"
   ]
  },
  {
   "cell_type": "code",
   "execution_count": 298,
   "metadata": {},
   "outputs": [],
   "source": [
    "def high_value(x):\n",
    "    if x>=100:\n",
    "        return 1\n",
    "    else:\n",
    "        return 0"
   ]
  },
  {
   "cell_type": "code",
   "execution_count": 299,
   "metadata": {},
   "outputs": [],
   "source": [
    "train['high_value'] = train.apply(lambda row : high_value(row['high_value']), axis = 1)"
   ]
  },
  {
   "cell_type": "code",
   "execution_count": 300,
   "metadata": {},
   "outputs": [
    {
     "data": {
      "text/html": [
       "<div>\n",
       "<style scoped>\n",
       "    .dataframe tbody tr th:only-of-type {\n",
       "        vertical-align: middle;\n",
       "    }\n",
       "\n",
       "    .dataframe tbody tr th {\n",
       "        vertical-align: top;\n",
       "    }\n",
       "\n",
       "    .dataframe thead th {\n",
       "        text-align: right;\n",
       "    }\n",
       "</style>\n",
       "<table border=\"1\" class=\"dataframe\">\n",
       "  <thead>\n",
       "    <tr style=\"text-align: right;\">\n",
       "      <th></th>\n",
       "      <th>USERID</th>\n",
       "      <th>month_of_yr</th>\n",
       "      <th>sum_weekly_lc</th>\n",
       "      <th>sum_monthly_lc</th>\n",
       "      <th>t_revenue_upm</th>\n",
       "      <th>t_revenue_upw</th>\n",
       "      <th>avg_weekly_lc</th>\n",
       "      <th>avg_monthly_lc</th>\n",
       "      <th>avg_revenue_upm</th>\n",
       "      <th>avg_revenue_upw</th>\n",
       "      <th>week_of_create</th>\n",
       "      <th>day_of_create</th>\n",
       "      <th>month_of_create</th>\n",
       "      <th>high_value</th>\n",
       "    </tr>\n",
       "  </thead>\n",
       "  <tbody>\n",
       "    <tr>\n",
       "      <th>0</th>\n",
       "      <td>1000</td>\n",
       "      <td>201504</td>\n",
       "      <td>21</td>\n",
       "      <td>96</td>\n",
       "      <td>128.0</td>\n",
       "      <td>32.0</td>\n",
       "      <td>5.25</td>\n",
       "      <td>24.0</td>\n",
       "      <td>32.0</td>\n",
       "      <td>8.0</td>\n",
       "      <td>1</td>\n",
       "      <td>3</td>\n",
       "      <td>201504</td>\n",
       "      <td>1</td>\n",
       "    </tr>\n",
       "    <tr>\n",
       "      <th>1</th>\n",
       "      <td>1001</td>\n",
       "      <td>201504</td>\n",
       "      <td>13</td>\n",
       "      <td>72</td>\n",
       "      <td>88.0</td>\n",
       "      <td>18.0</td>\n",
       "      <td>3.25</td>\n",
       "      <td>18.0</td>\n",
       "      <td>22.0</td>\n",
       "      <td>4.5</td>\n",
       "      <td>1</td>\n",
       "      <td>3</td>\n",
       "      <td>201504</td>\n",
       "      <td>1</td>\n",
       "    </tr>\n",
       "  </tbody>\n",
       "</table>\n",
       "</div>"
      ],
      "text/plain": [
       "   USERID  month_of_yr  sum_weekly_lc  sum_monthly_lc  t_revenue_upm  \\\n",
       "0    1000       201504             21              96          128.0   \n",
       "1    1001       201504             13              72           88.0   \n",
       "\n",
       "   t_revenue_upw  avg_weekly_lc  avg_monthly_lc  avg_revenue_upm  \\\n",
       "0           32.0           5.25            24.0             32.0   \n",
       "1           18.0           3.25            18.0             22.0   \n",
       "\n",
       "   avg_revenue_upw  week_of_create  day_of_create  month_of_create  high_value  \n",
       "0              8.0               1              3           201504           1  \n",
       "1              4.5               1              3           201504           1  "
      ]
     },
     "execution_count": 300,
     "metadata": {},
     "output_type": "execute_result"
    }
   ],
   "source": [
    "train=train.reset_index()\n",
    "train=train.drop('index',1)\n",
    "train.head(2)"
   ]
  },
  {
   "cell_type": "code",
   "execution_count": 301,
   "metadata": {},
   "outputs": [],
   "source": [
    "x=train.drop(['high_value','USERID'],1)\n",
    "y=train['high_value']"
   ]
  },
  {
   "cell_type": "code",
   "execution_count": 302,
   "metadata": {},
   "outputs": [
    {
     "name": "stdout",
     "output_type": "stream",
     "text": [
      "Accuracy: 65.44%\n"
     ]
    }
   ],
   "source": [
    "from xgboost import XGBClassifier\n",
    "from sklearn.metrics import accuracy_score\n",
    "from sklearn.model_selection import train_test_split\n",
    "X_train, X_test, y_train, y_test = train_test_split(x,y, test_size=0.33, random_state=42)\n",
    "model = XGBClassifier(learning_rate=0.8,n_estimators=300)\n",
    "model.fit(X_train, y_train)\n",
    "# make predictions for test data\n",
    "y_predxg = model.predict(X_test)\n",
    "predictions = [round(value) for value in y_predxg]\n",
    "# evaluate predictions\n",
    "accuracy = accuracy_score(y_test, predictions)\n",
    "print(\"Accuracy: %.2f%%\" % (accuracy * 100.0))"
   ]
  },
  {
   "cell_type": "code",
   "execution_count": 303,
   "metadata": {},
   "outputs": [
    {
     "name": "stdout",
     "output_type": "stream",
     "text": [
      "Accuracy: 0.6220785479077986\n"
     ]
    }
   ],
   "source": [
    "from sklearn.ensemble import RandomForestClassifier\n",
    "#Create a Gaussian Classifier\n",
    "clf=RandomForestClassifier(max_depth=2,n_estimators=300)\n",
    "#Train the model using the training sets y_pred=clf.predict(X_test)\n",
    "clf.fit(X_train,y_train)\n",
    "y_predrf=clf.predict(X_test)\n",
    "from sklearn import metrics\n",
    "# Model Accuracy, how often is the classifier correct?\n",
    "print(\"Accuracy:\",metrics.accuracy_score(y_test, y_predrf))"
   ]
  },
  {
   "cell_type": "code",
   "execution_count": 304,
   "metadata": {},
   "outputs": [],
   "source": [
    "# train=train.drop_duplicates(keep=\"first\", inplace=False).reset_index()\n",
    "# train=train.drop(['index','DATE','USERID','ACTIVITY_created account','ACTIVITY_logged in'],1)\n",
    "result=pd.read_csv('problem-two-new-users.csv',header=None)\n",
    "result=result.rename(columns = {0:'USERID'})\n",
    "test=pd.merge(result,df, on=['USERID'],how='left')"
   ]
  },
  {
   "cell_type": "code",
   "execution_count": 305,
   "metadata": {},
   "outputs": [
    {
     "data": {
      "text/plain": [
       "<matplotlib.axes._subplots.AxesSubplot at 0x2150971ccf8>"
      ]
     },
     "execution_count": 305,
     "metadata": {},
     "output_type": "execute_result"
    },
    {
     "data": {
      "image/png": "[encoded data removed]",
      "text/plain": [
       "<Figure size 864x432 with 1 Axes>"
      ]
     },
     "metadata": {
      "needs_background": "light"
     },
     "output_type": "display_data"
    }
   ],
   "source": [
    "from sklearn.tree import DecisionTreeClassifier\n",
    "\n",
    "clf = DecisionTreeClassifier()\n",
    "clf.fit(x, y)\n",
    "\n",
    "pd.Series(clf.feature_importances_, index=x.columns).plot.bar(color='steelblue', figsize=(12, 6))"
   ]
  },
  {
   "cell_type": "code",
   "execution_count": 306,
   "metadata": {},
   "outputs": [],
   "source": [
    "from sklearn.feature_selection import SelectFromModel\n",
    "\n",
    "clf = DecisionTreeClassifier()\n",
    "trans = SelectFromModel(clf, threshold='median')\n",
    "x_trans = trans.fit_transform(x, y)"
   ]
  },
  {
   "cell_type": "code",
   "execution_count": 307,
   "metadata": {},
   "outputs": [
    {
     "name": "stdout",
     "output_type": "stream",
     "text": [
      "We started with 11 features but retained only 6 of them!\n"
     ]
    }
   ],
   "source": [
    "print(\"We started with {0} features but retained only {1} of them!\".format(x.shape[1] - 1,x_trans.shape[1]))"
   ]
  },
  {
   "cell_type": "code",
   "execution_count": 308,
   "metadata": {},
   "outputs": [],
   "source": [
    "columns_retained_FromMode = x.columns[trans.get_support()].values"
   ]
  },
  {
   "cell_type": "code",
   "execution_count": 309,
   "metadata": {},
   "outputs": [
    {
     "data": {
      "text/plain": [
       "array(['t_revenue_upm', 'avg_weekly_lc', 'avg_monthly_lc',\n",
       "       'avg_revenue_upw', 'day_of_create', 'month_of_create'],\n",
       "      dtype=object)"
      ]
     },
     "execution_count": 309,
     "metadata": {},
     "output_type": "execute_result"
    }
   ],
   "source": [
    "columns_retained_FromMode"
   ]
  },
  {
   "cell_type": "code",
   "execution_count": 310,
   "metadata": {},
   "outputs": [
    {
     "data": {
      "text/plain": [
       "array(['month_of_yr', 't_revenue_upm', 'avg_weekly_lc', 'avg_monthly_lc',\n",
       "       'avg_revenue_upw', 'day_of_create'], dtype=object)"
      ]
     },
     "execution_count": 310,
     "metadata": {},
     "output_type": "execute_result"
    }
   ],
   "source": [
    "from sklearn.feature_selection import RFE\n",
    "clf = DecisionTreeClassifier()\n",
    "trans = RFE(clf, n_features_to_select=6)\n",
    "x_trans = trans.fit_transform(x,y)\n",
    "columns_retained_RFE = x.columns[trans.get_support()].values\n",
    "columns_retained_RFE"
   ]
  },
  {
   "cell_type": "code",
   "execution_count": 311,
   "metadata": {},
   "outputs": [
    {
     "data": {
      "text/plain": [
       "array(['avg_monthly_lc', 'avg_revenue_upw'], dtype=object)"
      ]
     },
     "execution_count": 311,
     "metadata": {},
     "output_type": "execute_result"
    }
   ],
   "source": [
    "from sklearn.feature_selection import RFECV\n",
    "clf = DecisionTreeClassifier()\n",
    "trans = RFECV(clf,min_features_to_select=2)\n",
    "x_trans = trans.fit_transform(x,y)\n",
    "columns_retained_RFECV =x.columns[trans.get_support()].values\n",
    "columns_retained_RFECV"
   ]
  },
  {
   "cell_type": "code",
   "execution_count": 312,
   "metadata": {},
   "outputs": [
    {
     "data": {
      "text/plain": [
       "Index(['month_of_yr', 'sum_weekly_lc', 'sum_monthly_lc', 't_revenue_upm',\n",
       "       't_revenue_upw', 'avg_weekly_lc', 'avg_monthly_lc', 'avg_revenue_upm',\n",
       "       'avg_revenue_upw', 'week_of_create', 'day_of_create',\n",
       "       'month_of_create'],\n",
       "      dtype='object')"
      ]
     },
     "execution_count": 312,
     "metadata": {},
     "output_type": "execute_result"
    }
   ],
   "source": [
    "x.columns"
   ]
  },
  {
   "cell_type": "code",
   "execution_count": 313,
   "metadata": {},
   "outputs": [],
   "source": [
    "colum=['t_revenue_upm', 'avg_weekly_lc', 'avg_monthly_lc','avg_revenue_upw', 'day_of_create']"
   ]
  },
  {
   "cell_type": "code",
   "execution_count": 314,
   "metadata": {},
   "outputs": [
    {
     "name": "stdout",
     "output_type": "stream",
     "text": [
      "Accuracy: 65.38%\n"
     ]
    }
   ],
   "source": [
    "xtemp=x[colum]\n",
    "ytemp=train['high_value']\n",
    "from xgboost import XGBClassifier\n",
    "from sklearn.metrics import accuracy_score\n",
    "from sklearn.model_selection import train_test_split\n",
    "X_train, X_test, y_train, y_test = train_test_split(xtemp,ytemp, test_size=0.33, random_state=42)\n",
    "model = XGBClassifier(learning_rate=0.8,n_estimators=300)\n",
    "model.fit(X_train, y_train)\n",
    "# make predictions for test data\n",
    "y_predxg = model.predict(X_test)\n",
    "predictions = [round(value) for value in y_predxg]\n",
    "# evaluate predictions\n",
    "accuracy = accuracy_score(y_test, predictions)\n",
    "print(\"Accuracy: %.2f%%\" % (accuracy * 100.0))"
   ]
  },
  {
   "cell_type": "code",
   "execution_count": 315,
   "metadata": {},
   "outputs": [
    {
     "name": "stdout",
     "output_type": "stream",
     "text": [
      "Accuracy: 0.6220785479077986\n"
     ]
    }
   ],
   "source": [
    "xtemp=x[list(columns_retained_RFE)]\n",
    "ytemp=train['high_value']\n",
    "X_train, X_test, y_train, y_test = train_test_split(xtemp,ytemp, test_size=0.33, random_state=42)\n",
    "from sklearn.ensemble import RandomForestClassifier\n",
    "#Create a Gaussian Classifier\n",
    "clf=RandomForestClassifier(max_depth=2,n_estimators=300)\n",
    "#Train the model using the training sets y_pred=clf.predict(X_test)\n",
    "clf.fit(X_train,y_train)\n",
    "y_predrf=clf.predict(X_test)\n",
    "from sklearn import metrics\n",
    "# Model Accuracy, how often is the classifier correct?\n",
    "print(\"Accuracy:\",metrics.accuracy_score(y_test, y_predrf))"
   ]
  },
  {
   "cell_type": "code",
   "execution_count": 316,
   "metadata": {},
   "outputs": [],
   "source": [
    "testtemp=test[colum]\n",
    "y_pred_test=model.predict(testtemp)"
   ]
  },
  {
   "cell_type": "code",
   "execution_count": 317,
   "metadata": {},
   "outputs": [],
   "source": [
    "test['high_value']=y_pred_test"
   ]
  },
  {
   "cell_type": "code",
   "execution_count": 318,
   "metadata": {},
   "outputs": [
    {
     "data": {
      "text/html": [
       "<div>\n",
       "<style scoped>\n",
       "    .dataframe tbody tr th:only-of-type {\n",
       "        vertical-align: middle;\n",
       "    }\n",
       "\n",
       "    .dataframe tbody tr th {\n",
       "        vertical-align: top;\n",
       "    }\n",
       "\n",
       "    .dataframe thead th {\n",
       "        text-align: right;\n",
       "    }\n",
       "</style>\n",
       "<table border=\"1\" class=\"dataframe\">\n",
       "  <thead>\n",
       "    <tr style=\"text-align: right;\">\n",
       "      <th></th>\n",
       "      <th>month_of_yr</th>\n",
       "      <th>sum_weekly_lc</th>\n",
       "      <th>sum_monthly_lc</th>\n",
       "      <th>t_revenue_upm</th>\n",
       "      <th>t_revenue_upw</th>\n",
       "      <th>avg_weekly_lc</th>\n",
       "      <th>avg_monthly_lc</th>\n",
       "      <th>avg_revenue_upm</th>\n",
       "      <th>avg_revenue_upw</th>\n",
       "      <th>week_of_create</th>\n",
       "      <th>day_of_create</th>\n",
       "      <th>month_of_create</th>\n",
       "    </tr>\n",
       "  </thead>\n",
       "  <tbody>\n",
       "    <tr>\n",
       "      <th>0</th>\n",
       "      <td>201504</td>\n",
       "      <td>21</td>\n",
       "      <td>96</td>\n",
       "      <td>128.0</td>\n",
       "      <td>32.0</td>\n",
       "      <td>5.25</td>\n",
       "      <td>24.0</td>\n",
       "      <td>32.0</td>\n",
       "      <td>8.0</td>\n",
       "      <td>1</td>\n",
       "      <td>3</td>\n",
       "      <td>201504</td>\n",
       "    </tr>\n",
       "    <tr>\n",
       "      <th>1</th>\n",
       "      <td>201504</td>\n",
       "      <td>13</td>\n",
       "      <td>72</td>\n",
       "      <td>88.0</td>\n",
       "      <td>18.0</td>\n",
       "      <td>3.25</td>\n",
       "      <td>18.0</td>\n",
       "      <td>22.0</td>\n",
       "      <td>4.5</td>\n",
       "      <td>1</td>\n",
       "      <td>3</td>\n",
       "      <td>201504</td>\n",
       "    </tr>\n",
       "  </tbody>\n",
       "</table>\n",
       "</div>"
      ],
      "text/plain": [
       "   month_of_yr  sum_weekly_lc  sum_monthly_lc  t_revenue_upm  t_revenue_upw  \\\n",
       "0       201504             21              96          128.0           32.0   \n",
       "1       201504             13              72           88.0           18.0   \n",
       "\n",
       "   avg_weekly_lc  avg_monthly_lc  avg_revenue_upm  avg_revenue_upw  \\\n",
       "0           5.25            24.0             32.0              8.0   \n",
       "1           3.25            18.0             22.0              4.5   \n",
       "\n",
       "   week_of_create  day_of_create  month_of_create  \n",
       "0               1              3           201504  \n",
       "1               1              3           201504  "
      ]
     },
     "execution_count": 318,
     "metadata": {},
     "output_type": "execute_result"
    }
   ],
   "source": [
    "x.head(2)"
   ]
  },
  {
   "cell_type": "code",
   "execution_count": 319,
   "metadata": {},
   "outputs": [
    {
     "data": {
      "text/html": [
       "<div>\n",
       "<style scoped>\n",
       "    .dataframe tbody tr th:only-of-type {\n",
       "        vertical-align: middle;\n",
       "    }\n",
       "\n",
       "    .dataframe tbody tr th {\n",
       "        vertical-align: top;\n",
       "    }\n",
       "\n",
       "    .dataframe thead th {\n",
       "        text-align: right;\n",
       "    }\n",
       "</style>\n",
       "<table border=\"1\" class=\"dataframe\">\n",
       "  <thead>\n",
       "    <tr style=\"text-align: right;\">\n",
       "      <th></th>\n",
       "      <th>USERID</th>\n",
       "      <th>month_of_yr</th>\n",
       "      <th>sum_weekly_lc</th>\n",
       "      <th>sum_monthly_lc</th>\n",
       "      <th>t_revenue_upm</th>\n",
       "      <th>t_revenue_upw</th>\n",
       "      <th>avg_weekly_lc</th>\n",
       "      <th>avg_monthly_lc</th>\n",
       "      <th>avg_revenue_upm</th>\n",
       "      <th>avg_revenue_upw</th>\n",
       "      <th>week_of_create</th>\n",
       "      <th>day_of_create</th>\n",
       "      <th>month_of_create</th>\n",
       "      <th>high_value</th>\n",
       "    </tr>\n",
       "  </thead>\n",
       "  <tbody>\n",
       "    <tr>\n",
       "      <th>0</th>\n",
       "      <td>88430</td>\n",
       "      <td>201606</td>\n",
       "      <td>21</td>\n",
       "      <td>105</td>\n",
       "      <td>160.0</td>\n",
       "      <td>32.0</td>\n",
       "      <td>4.2</td>\n",
       "      <td>21.0</td>\n",
       "      <td>32.0</td>\n",
       "      <td>6.4</td>\n",
       "      <td>1</td>\n",
       "      <td>5</td>\n",
       "      <td>201606</td>\n",
       "      <td>1</td>\n",
       "    </tr>\n",
       "    <tr>\n",
       "      <th>1</th>\n",
       "      <td>88431</td>\n",
       "      <td>201606</td>\n",
       "      <td>18</td>\n",
       "      <td>96</td>\n",
       "      <td>24.0</td>\n",
       "      <td>6.0</td>\n",
       "      <td>4.5</td>\n",
       "      <td>24.0</td>\n",
       "      <td>6.0</td>\n",
       "      <td>1.5</td>\n",
       "      <td>1</td>\n",
       "      <td>5</td>\n",
       "      <td>201606</td>\n",
       "      <td>1</td>\n",
       "    </tr>\n",
       "  </tbody>\n",
       "</table>\n",
       "</div>"
      ],
      "text/plain": [
       "   USERID  month_of_yr  sum_weekly_lc  sum_monthly_lc  t_revenue_upm  \\\n",
       "0   88430       201606             21             105          160.0   \n",
       "1   88431       201606             18              96           24.0   \n",
       "\n",
       "   t_revenue_upw  avg_weekly_lc  avg_monthly_lc  avg_revenue_upm  \\\n",
       "0           32.0            4.2            21.0             32.0   \n",
       "1            6.0            4.5            24.0              6.0   \n",
       "\n",
       "   avg_revenue_upw  week_of_create  day_of_create  month_of_create  high_value  \n",
       "0              6.4               1              5           201606           1  \n",
       "1              1.5               1              5           201606           1  "
      ]
     },
     "execution_count": 319,
     "metadata": {},
     "output_type": "execute_result"
    }
   ],
   "source": [
    "test.head(2)"
   ]
  },
  {
   "cell_type": "code",
   "execution_count": 320,
   "metadata": {},
   "outputs": [],
   "source": [
    "test=test.drop('USERID',1)"
   ]
  },
  {
   "cell_type": "code",
   "execution_count": 321,
   "metadata": {},
   "outputs": [],
   "source": [
    "# test=test.drop_duplicates(keep=\"first\", inplace=False).reset_index()\n",
    "# y_pred_test=clf.predict(test)"
   ]
  },
  {
   "cell_type": "markdown",
   "metadata": {},
   "source": [
    "#  Run below cells to generate csv "
   ]
  },
  {
   "cell_type": "code",
   "execution_count": 322,
   "metadata": {},
   "outputs": [],
   "source": [
    "######################################################## PS-2 Solution #########################################################"
   ]
  },
  {
   "cell_type": "code",
   "execution_count": 323,
   "metadata": {},
   "outputs": [],
   "source": [
    "tran=pd.read_csv('transaction.csv',parse_dates=['DATE'])\n",
    "price=pd.read_csv('pricing.csv',parse_dates=['DATE'])\n",
    "act=pd.read_csv('activity.csv',parse_dates=['DATE'])\n",
    "mark=pd.read_csv('marketing.csv',parse_dates=['DATE'])"
   ]
  },
  {
   "cell_type": "code",
   "execution_count": 324,
   "metadata": {},
   "outputs": [],
   "source": [
    "account_created=act[act['ACTIVITY']=='created account']"
   ]
  },
  {
   "cell_type": "code",
   "execution_count": 325,
   "metadata": {},
   "outputs": [],
   "source": [
    "account_login=act[act['ACTIVITY']=='logged in']"
   ]
  },
  {
   "cell_type": "code",
   "execution_count": 326,
   "metadata": {},
   "outputs": [
    {
     "name": "stderr",
     "output_type": "stream",
     "text": [
      "C:\\Users\\AJAY\\Anaconda3\\lib\\site-packages\\ipykernel_launcher.py:1: SettingWithCopyWarning: \n",
      "A value is trying to be set on a copy of a slice from a DataFrame.\n",
      "Try using .loc[row_indexer,col_indexer] = value instead\n",
      "\n",
      "See the caveats in the documentation: http://pandas.pydata.org/pandas-docs/stable/indexing.html#indexing-view-versus-copy\n",
      "  \"\"\"Entry point for launching an IPython kernel.\n"
     ]
    }
   ],
   "source": [
    "account_login['YearMonth'] = account_login['DATE'].map(lambda DATE: 100*DATE.year + DATE.month)\n",
    "# account_created['YearMonth'] = account_created['DATE'].map(lambda DATE: 100*DATE.year + DATE.month)"
   ]
  },
  {
   "cell_type": "code",
   "execution_count": 327,
   "metadata": {},
   "outputs": [],
   "source": [
    "user_new= pd.DataFrame()\n",
    "user_new = account_created.drop(['ACTIVITY'], axis = 1)\n",
    "user_new = user_new.rename(columns = {'DATE':'CREATED_AT'})"
   ]
  },
  {
   "cell_type": "code",
   "execution_count": 328,
   "metadata": {},
   "outputs": [],
   "source": [
    "# t_data = pd.merge(tran, user_new, on='USERID')\n",
    "t_data = pd.merge(user_new,tran, on='USERID')"
   ]
  },
  {
   "cell_type": "code",
   "execution_count": 329,
   "metadata": {},
   "outputs": [],
   "source": [
    "t_data['createdmonth'] = t_data['CREATED_AT'].map(lambda DATE: (100*DATE.year + DATE.month))\n",
    "t_data['YearMonth'] = t_data['DATE'].map(lambda DATE:(100*DATE.year + DATE.month))"
   ]
  },
  {
   "cell_type": "code",
   "execution_count": 330,
   "metadata": {},
   "outputs": [],
   "source": [
    "t_data=t_data.drop('CREATED_AT',1)"
   ]
  },
  {
   "cell_type": "code",
   "execution_count": 331,
   "metadata": {},
   "outputs": [],
   "source": [
    "def usertype(ym,cm):\n",
    "    if str(ym)=='nan' and str(cm)!='nan':\n",
    "        return 'new'\n",
    "    if round(ym)==round(cm):\n",
    "        return 'new'\n",
    "    else:\n",
    "        return 'old'\n",
    "    "
   ]
  },
  {
   "cell_type": "code",
   "execution_count": 332,
   "metadata": {},
   "outputs": [],
   "source": [
    "t_data['type'] = t_data.apply(lambda row : usertype(row['YearMonth'], \n",
    "                     row['createdmonth']), axis = 1)"
   ]
  },
  {
   "cell_type": "code",
   "execution_count": 333,
   "metadata": {},
   "outputs": [],
   "source": [
    "login_count=account_login.groupby(['YearMonth','USERID']).count().reset_index()"
   ]
  },
  {
   "cell_type": "code",
   "execution_count": 334,
   "metadata": {},
   "outputs": [],
   "source": [
    "login_count=login_count.drop('DATE',1)\n",
    "login_count =login_count.rename(columns = {'YearMonth':'month_of_activity'})\n",
    "# login_count=login_count.groupby(['USERID'])['ACTIVITY'].sum().reset_index()"
   ]
  },
  {
   "cell_type": "code",
   "execution_count": 335,
   "metadata": {},
   "outputs": [],
   "source": [
    "# t_data = pd.merge(t_data, login_count, on=['USERID','YearMonth'])"
   ]
  },
  {
   "cell_type": "code",
   "execution_count": 336,
   "metadata": {},
   "outputs": [],
   "source": [
    "t_data = pd.merge(t_data, login_count, on='USERID')\n",
    "# t = pd.merge(y,x, on=['USERID'],how='left')"
   ]
  },
  {
   "cell_type": "code",
   "execution_count": 337,
   "metadata": {},
   "outputs": [],
   "source": [
    "# feature creation for each month"
   ]
  },
  {
   "cell_type": "code",
   "execution_count": 338,
   "metadata": {},
   "outputs": [],
   "source": [
    "# t_data=t_data.sort_values(by='YearMonth').reset_index()"
   ]
  },
  {
   "cell_type": "code",
   "execution_count": 339,
   "metadata": {},
   "outputs": [],
   "source": [
    "total_per_user_pm=t_data.groupby(['YearMonth','USERID'])['TOTAL'].sum().reset_index()\n",
    "avg_per_user_pm=t_data.groupby(['YearMonth','USERID'])['TOTAL'].mean().reset_index()"
   ]
  },
  {
   "cell_type": "code",
   "execution_count": 340,
   "metadata": {},
   "outputs": [],
   "source": [
    "total_per_user_pm =total_per_user_pm.rename(columns = {'TOTAL':'total_per_user_pm'})\n",
    "avg_per_user_pm =avg_per_user_pm.rename(columns = {'TOTAL':'avg_per_user_pm'})"
   ]
  },
  {
   "cell_type": "code",
   "execution_count": 341,
   "metadata": {},
   "outputs": [],
   "source": [
    "feature = pd.merge(total_per_user_pm,avg_per_user_pm, on=['USERID','YearMonth'])"
   ]
  },
  {
   "cell_type": "code",
   "execution_count": 342,
   "metadata": {},
   "outputs": [],
   "source": [
    "t_data=pd.merge(t_data,feature, on=['USERID','YearMonth'])"
   ]
  },
  {
   "cell_type": "code",
   "execution_count": 343,
   "metadata": {},
   "outputs": [],
   "source": [
    "df=t_data.drop(['DATE','PRICE','UNITS','TOTAL'],1)"
   ]
  },
  {
   "cell_type": "code",
   "execution_count": 344,
   "metadata": {},
   "outputs": [],
   "source": [
    "df=df.drop_duplicates(keep=\"first\", inplace=False).reset_index()\n",
    "df=df.drop('index',1)"
   ]
  },
  {
   "cell_type": "code",
   "execution_count": 345,
   "metadata": {},
   "outputs": [],
   "source": [
    "def high_value(x):\n",
    "    if x>=100:\n",
    "        return 1\n",
    "    else:\n",
    "        return 0"
   ]
  },
  {
   "cell_type": "code",
   "execution_count": 346,
   "metadata": {},
   "outputs": [],
   "source": [
    "train=pd.DataFrame()\n",
    "for ym in list(set(df['YearMonth'])):\n",
    "    if ym+4<=201512:\n",
    "        tym=ym+4\n",
    "        temp_data=df[df['YearMonth']<tym]\n",
    "        temp_x1=temp_data[(temp_data['YearMonth']==ym) & (temp_data['type']=='new')]\n",
    "        temp_y1=temp_data[(temp_data['YearMonth']>ym) & (temp_data['createdmonth']==ym)].groupby(['USERID'])['total_per_user_pm'].sum().reset_index()\n",
    "        temp_y1 =temp_y1.rename(columns = {'total_per_user_pm':'high_value'})\n",
    "        train_data=pd.merge(temp_x1, temp_y1, on='USERID', how='inner')\n",
    "        train_data['high_value'] = train_data.apply(lambda row : high_value(row['high_value']), axis = 1)\n",
    "        if len(train)==0:\n",
    "            train=train_data\n",
    "        else:\n",
    "            train=pd.concat([train,train_data])\n",
    "\n",
    "    if ym+4>201512 and ym<=201512:\n",
    "        tym=201600\n",
    "        temp_data=df[df['YearMonth']<tym+4-(201512-ym)]\n",
    "        temp_x1=temp_data[(temp_data['YearMonth']==ym) & (temp_data['type']=='new')]\n",
    "        temp_y1=temp_data[(temp_data['YearMonth']>ym) & (temp_data['createdmonth']==ym)].groupby(['USERID'])['total_per_user_pm'].sum().reset_index()\n",
    "        temp_y1 =temp_y1.rename(columns = {'total_per_user_pm':'high_value'})\n",
    "        train_data=pd.merge(temp_x1, temp_y1, on='USERID', how='inner')\n",
    "        train_data['high_value'] = train_data.apply(lambda row : high_value(row['high_value']), axis = 1)\n",
    "        if len(train)==0:\n",
    "            train=train_data\n",
    "        else:\n",
    "            train=pd.concat([train,train_data])\n",
    "    \n",
    "    if  ym>201512 and ym<=201603:\n",
    "        temp_data=df[df['YearMonth']<ym+4]\n",
    "        temp_x1=temp_data[(temp_data['YearMonth']==ym) & (temp_data['type']=='new')]\n",
    "        temp_y1=temp_data[(temp_data['YearMonth']>ym) & (temp_data['createdmonth']==ym)].groupby(['USERID'])['total_per_user_pm'].sum().reset_index()\n",
    "        temp_y1 =temp_y1.rename(columns = {'total_per_user_pm':'high_value'})\n",
    "        train_data=pd.merge(temp_x1, temp_y1, on='USERID', how='inner')\n",
    "        train_data['high_value'] = train_data.apply(lambda row : high_value(row['high_value']), axis = 1)\n",
    "        if len(train)==0:\n",
    "            train=train_data\n",
    "        else:\n",
    "            train=pd.concat([train,train_data])\n",
    "    "
   ]
  },
  {
   "cell_type": "code",
   "execution_count": 347,
   "metadata": {},
   "outputs": [],
   "source": [
    "## preparation of test data"
   ]
  },
  {
   "cell_type": "code",
   "execution_count": 348,
   "metadata": {},
   "outputs": [],
   "source": [
    "nuser=pd.read_csv('problem-two-new-users.csv',header=None)\n",
    "nuser=nuser.rename(columns = {0:'USERID'})\n",
    "mydata=pd.merge(nuser,df, on='USERID', how='left')\n",
    "mydata['createdmonth']=201606.0\n",
    "mydata['type']='new'\n",
    "mydata=mydata.drop(['YearMonth','month_of_activity'],1)\n",
    "mydata=mydata.fillna(0)\n",
    "testdata=mydata.groupby(['USERID'])['ACTIVITY','total_per_user_pm','avg_per_user_pm'].sum().reset_index()\n",
    "testdata['createdmonth']=201606\n",
    "testdata['type']='new'\n",
    "testdata['month_of_activity']=testdata['createdmonth']\n"
   ]
  },
  {
   "cell_type": "code",
   "execution_count": 349,
   "metadata": {},
   "outputs": [],
   "source": [
    "def typeuser(x,y):\n",
    "    if x==y:\n",
    "        return 'new'\n",
    "    else:\n",
    "        return 'old'"
   ]
  },
  {
   "cell_type": "code",
   "execution_count": 350,
   "metadata": {},
   "outputs": [],
   "source": [
    "train['type'] = train.apply(lambda row : typeuser(row['createdmonth'], \n",
    "                     row['month_of_activity']), axis = 1)"
   ]
  },
  {
   "cell_type": "code",
   "execution_count": 351,
   "metadata": {},
   "outputs": [],
   "source": [
    "train=train.drop(['YearMonth'],1)"
   ]
  },
  {
   "cell_type": "code",
   "execution_count": 352,
   "metadata": {},
   "outputs": [
    {
     "data": {
      "text/html": [
       "<div>\n",
       "<style scoped>\n",
       "    .dataframe tbody tr th:only-of-type {\n",
       "        vertical-align: middle;\n",
       "    }\n",
       "\n",
       "    .dataframe tbody tr th {\n",
       "        vertical-align: top;\n",
       "    }\n",
       "\n",
       "    .dataframe thead th {\n",
       "        text-align: right;\n",
       "    }\n",
       "</style>\n",
       "<table border=\"1\" class=\"dataframe\">\n",
       "  <thead>\n",
       "    <tr style=\"text-align: right;\">\n",
       "      <th></th>\n",
       "      <th>USERID</th>\n",
       "      <th>ACTIVITY</th>\n",
       "      <th>total_per_user_pm</th>\n",
       "      <th>avg_per_user_pm</th>\n",
       "      <th>createdmonth</th>\n",
       "      <th>type</th>\n",
       "      <th>month_of_activity</th>\n",
       "    </tr>\n",
       "  </thead>\n",
       "  <tbody>\n",
       "    <tr>\n",
       "      <th>0</th>\n",
       "      <td>88430</td>\n",
       "      <td>21.0</td>\n",
       "      <td>128.0</td>\n",
       "      <td>10.666667</td>\n",
       "      <td>201606</td>\n",
       "      <td>new</td>\n",
       "      <td>201606</td>\n",
       "    </tr>\n",
       "    <tr>\n",
       "      <th>1</th>\n",
       "      <td>88431</td>\n",
       "      <td>24.0</td>\n",
       "      <td>24.0</td>\n",
       "      <td>6.000000</td>\n",
       "      <td>201606</td>\n",
       "      <td>new</td>\n",
       "      <td>201606</td>\n",
       "    </tr>\n",
       "    <tr>\n",
       "      <th>2</th>\n",
       "      <td>88432</td>\n",
       "      <td>0.0</td>\n",
       "      <td>0.0</td>\n",
       "      <td>0.000000</td>\n",
       "      <td>201606</td>\n",
       "      <td>new</td>\n",
       "      <td>201606</td>\n",
       "    </tr>\n",
       "    <tr>\n",
       "      <th>3</th>\n",
       "      <td>88433</td>\n",
       "      <td>15.0</td>\n",
       "      <td>16.0</td>\n",
       "      <td>8.000000</td>\n",
       "      <td>201606</td>\n",
       "      <td>new</td>\n",
       "      <td>201606</td>\n",
       "    </tr>\n",
       "    <tr>\n",
       "      <th>4</th>\n",
       "      <td>88434</td>\n",
       "      <td>24.0</td>\n",
       "      <td>20.0</td>\n",
       "      <td>5.000000</td>\n",
       "      <td>201606</td>\n",
       "      <td>new</td>\n",
       "      <td>201606</td>\n",
       "    </tr>\n",
       "  </tbody>\n",
       "</table>\n",
       "</div>"
      ],
      "text/plain": [
       "   USERID  ACTIVITY  total_per_user_pm  avg_per_user_pm  createdmonth type  \\\n",
       "0   88430      21.0              128.0        10.666667        201606  new   \n",
       "1   88431      24.0               24.0         6.000000        201606  new   \n",
       "2   88432       0.0                0.0         0.000000        201606  new   \n",
       "3   88433      15.0               16.0         8.000000        201606  new   \n",
       "4   88434      24.0               20.0         5.000000        201606  new   \n",
       "\n",
       "   month_of_activity  \n",
       "0             201606  \n",
       "1             201606  \n",
       "2             201606  \n",
       "3             201606  \n",
       "4             201606  "
      ]
     },
     "execution_count": 352,
     "metadata": {},
     "output_type": "execute_result"
    }
   ],
   "source": [
    "testdata.head()"
   ]
  },
  {
   "cell_type": "code",
   "execution_count": 353,
   "metadata": {},
   "outputs": [
    {
     "data": {
      "text/html": [
       "<div>\n",
       "<style scoped>\n",
       "    .dataframe tbody tr th:only-of-type {\n",
       "        vertical-align: middle;\n",
       "    }\n",
       "\n",
       "    .dataframe tbody tr th {\n",
       "        vertical-align: top;\n",
       "    }\n",
       "\n",
       "    .dataframe thead th {\n",
       "        text-align: right;\n",
       "    }\n",
       "</style>\n",
       "<table border=\"1\" class=\"dataframe\">\n",
       "  <thead>\n",
       "    <tr style=\"text-align: right;\">\n",
       "      <th></th>\n",
       "      <th>USERID</th>\n",
       "      <th>createdmonth</th>\n",
       "      <th>type</th>\n",
       "      <th>month_of_activity</th>\n",
       "      <th>ACTIVITY</th>\n",
       "      <th>total_per_user_pm</th>\n",
       "      <th>avg_per_user_pm</th>\n",
       "      <th>high_value</th>\n",
       "    </tr>\n",
       "  </thead>\n",
       "  <tbody>\n",
       "    <tr>\n",
       "      <th>0</th>\n",
       "      <td>1000</td>\n",
       "      <td>201504</td>\n",
       "      <td>new</td>\n",
       "      <td>201504</td>\n",
       "      <td>24</td>\n",
       "      <td>64.0</td>\n",
       "      <td>4.000000</td>\n",
       "      <td>1</td>\n",
       "    </tr>\n",
       "    <tr>\n",
       "      <th>1</th>\n",
       "      <td>1000</td>\n",
       "      <td>201504</td>\n",
       "      <td>old</td>\n",
       "      <td>201505</td>\n",
       "      <td>20</td>\n",
       "      <td>64.0</td>\n",
       "      <td>4.000000</td>\n",
       "      <td>1</td>\n",
       "    </tr>\n",
       "    <tr>\n",
       "      <th>2</th>\n",
       "      <td>1001</td>\n",
       "      <td>201504</td>\n",
       "      <td>new</td>\n",
       "      <td>201504</td>\n",
       "      <td>18</td>\n",
       "      <td>330.0</td>\n",
       "      <td>7.333333</td>\n",
       "      <td>1</td>\n",
       "    </tr>\n",
       "    <tr>\n",
       "      <th>3</th>\n",
       "      <td>1001</td>\n",
       "      <td>201504</td>\n",
       "      <td>old</td>\n",
       "      <td>201505</td>\n",
       "      <td>19</td>\n",
       "      <td>330.0</td>\n",
       "      <td>7.333333</td>\n",
       "      <td>1</td>\n",
       "    </tr>\n",
       "    <tr>\n",
       "      <th>4</th>\n",
       "      <td>1001</td>\n",
       "      <td>201504</td>\n",
       "      <td>old</td>\n",
       "      <td>201506</td>\n",
       "      <td>23</td>\n",
       "      <td>330.0</td>\n",
       "      <td>7.333333</td>\n",
       "      <td>1</td>\n",
       "    </tr>\n",
       "  </tbody>\n",
       "</table>\n",
       "</div>"
      ],
      "text/plain": [
       "   USERID  createdmonth type  month_of_activity  ACTIVITY  total_per_user_pm  \\\n",
       "0    1000        201504  new             201504        24               64.0   \n",
       "1    1000        201504  old             201505        20               64.0   \n",
       "2    1001        201504  new             201504        18              330.0   \n",
       "3    1001        201504  old             201505        19              330.0   \n",
       "4    1001        201504  old             201506        23              330.0   \n",
       "\n",
       "   avg_per_user_pm  high_value  \n",
       "0         4.000000           1  \n",
       "1         4.000000           1  \n",
       "2         7.333333           1  \n",
       "3         7.333333           1  \n",
       "4         7.333333           1  "
      ]
     },
     "execution_count": 353,
     "metadata": {},
     "output_type": "execute_result"
    }
   ],
   "source": [
    "train.head()"
   ]
  },
  {
   "cell_type": "code",
   "execution_count": 354,
   "metadata": {},
   "outputs": [],
   "source": [
    "count=login_count[login_count['month_of_activity']>=201606].groupby(['USERID'])['ACTIVITY'].sum().reset_index()"
   ]
  },
  {
   "cell_type": "code",
   "execution_count": 355,
   "metadata": {},
   "outputs": [],
   "source": [
    "for idc in list(set(testdata[testdata['ACTIVITY'].isna()==True]['USERID'])):\n",
    "    indx=testdata[testdata['USERID']==idc].index[0]\n",
    "    indy=count[count['USERID']==idc].index[0]\n",
    "    testdata.set_value(indx,'ACTIVITY',count.iloc[indy]['ACTIVITY'])\n",
    "      "
   ]
  },
  {
   "cell_type": "code",
   "execution_count": 356,
   "metadata": {},
   "outputs": [],
   "source": [
    "#Training model"
   ]
  },
  {
   "cell_type": "code",
   "execution_count": 357,
   "metadata": {},
   "outputs": [
    {
     "data": {
      "text/plain": [
       "Index(['USERID', 'createdmonth', 'type', 'month_of_activity', 'ACTIVITY',\n",
       "       'total_per_user_pm', 'avg_per_user_pm', 'high_value'],\n",
       "      dtype='object')"
      ]
     },
     "execution_count": 357,
     "metadata": {},
     "output_type": "execute_result"
    }
   ],
   "source": [
    "train.columns"
   ]
  },
  {
   "cell_type": "code",
   "execution_count": 358,
   "metadata": {},
   "outputs": [],
   "source": [
    "import numpy as np\n",
    "from xgboost import XGBClassifier\n",
    "from sklearn.metrics import accuracy_score\n",
    "from sklearn.model_selection import train_test_split\n",
    "x=train[['ACTIVITY','total_per_user_pm', 'avg_per_user_pm', ]]\n",
    "# x['type']=x['type'].apply(lambda x:1 if x=='new' else 0)\n",
    "y=train['high_value']\n",
    "test=testdata\n",
    "test=test.drop(['type','USERID'],1)\n",
    "# test['type']=test['type'].apply(lambda x:1 if x=='new' else 0)"
   ]
  },
  {
   "cell_type": "code",
   "execution_count": 359,
   "metadata": {},
   "outputs": [],
   "source": [
    "X_train, X_test, y_train, y_test = train_test_split(x,y, test_size=0.33, random_state=42)"
   ]
  },
  {
   "cell_type": "code",
   "execution_count": 360,
   "metadata": {},
   "outputs": [
    {
     "name": "stdout",
     "output_type": "stream",
     "text": [
      "Accuracy: 95.22%\n"
     ]
    }
   ],
   "source": [
    "model = XGBClassifier()\n",
    "model.fit(X_train, y_train)\n",
    "# make predictions for test data\n",
    "y_pred = model.predict(X_test)\n",
    "predictions = [round(value) for value in y_pred]\n",
    "# evaluate predictions\n",
    "accuracy = accuracy_score(y_test, predictions)\n",
    "print(\"Accuracy: %.2f%%\" % (accuracy * 100.0))"
   ]
  },
  {
   "cell_type": "code",
   "execution_count": 361,
   "metadata": {},
   "outputs": [],
   "source": [
    "from sklearn.ensemble import RandomForestClassifier\n",
    "\n",
    "#Create a Gaussian Classifier\n",
    "clf=RandomForestClassifier(n_estimators=300)\n",
    "\n",
    "#Train the model using the training sets y_pred=clf.predict(X_test)\n",
    "clf.fit(X_train,y_train)\n",
    "\n",
    "y_predrf=clf.predict(X_test)"
   ]
  },
  {
   "cell_type": "code",
   "execution_count": 362,
   "metadata": {},
   "outputs": [
    {
     "name": "stdout",
     "output_type": "stream",
     "text": [
      "Accuracy: 0.9583837515690908\n"
     ]
    }
   ],
   "source": [
    "from sklearn import metrics\n",
    "# Model Accuracy, how often is the classifier correct?\n",
    "print(\"Accuracy:\",metrics.accuracy_score(y_test, y_predrf))"
   ]
  },
  {
   "cell_type": "code",
   "execution_count": 363,
   "metadata": {},
   "outputs": [
    {
     "data": {
      "text/html": [
       "<div>\n",
       "<style scoped>\n",
       "    .dataframe tbody tr th:only-of-type {\n",
       "        vertical-align: middle;\n",
       "    }\n",
       "\n",
       "    .dataframe tbody tr th {\n",
       "        vertical-align: top;\n",
       "    }\n",
       "\n",
       "    .dataframe thead th {\n",
       "        text-align: right;\n",
       "    }\n",
       "</style>\n",
       "<table border=\"1\" class=\"dataframe\">\n",
       "  <thead>\n",
       "    <tr style=\"text-align: right;\">\n",
       "      <th></th>\n",
       "      <th>ACTIVITY</th>\n",
       "      <th>total_per_user_pm</th>\n",
       "      <th>avg_per_user_pm</th>\n",
       "    </tr>\n",
       "  </thead>\n",
       "  <tbody>\n",
       "    <tr>\n",
       "      <th>0</th>\n",
       "      <td>21.0</td>\n",
       "      <td>128.0</td>\n",
       "      <td>10.666667</td>\n",
       "    </tr>\n",
       "    <tr>\n",
       "      <th>1</th>\n",
       "      <td>24.0</td>\n",
       "      <td>24.0</td>\n",
       "      <td>6.000000</td>\n",
       "    </tr>\n",
       "    <tr>\n",
       "      <th>2</th>\n",
       "      <td>0.0</td>\n",
       "      <td>0.0</td>\n",
       "      <td>0.000000</td>\n",
       "    </tr>\n",
       "    <tr>\n",
       "      <th>3</th>\n",
       "      <td>15.0</td>\n",
       "      <td>16.0</td>\n",
       "      <td>8.000000</td>\n",
       "    </tr>\n",
       "    <tr>\n",
       "      <th>4</th>\n",
       "      <td>24.0</td>\n",
       "      <td>20.0</td>\n",
       "      <td>5.000000</td>\n",
       "    </tr>\n",
       "  </tbody>\n",
       "</table>\n",
       "</div>"
      ],
      "text/plain": [
       "   ACTIVITY  total_per_user_pm  avg_per_user_pm\n",
       "0      21.0              128.0        10.666667\n",
       "1      24.0               24.0         6.000000\n",
       "2       0.0                0.0         0.000000\n",
       "3      15.0               16.0         8.000000\n",
       "4      24.0               20.0         5.000000"
      ]
     },
     "execution_count": 363,
     "metadata": {},
     "output_type": "execute_result"
    }
   ],
   "source": [
    "test=test[['ACTIVITY','total_per_user_pm', 'avg_per_user_pm', ]]\n",
    "test.head()"
   ]
  },
  {
   "cell_type": "code",
   "execution_count": 364,
   "metadata": {},
   "outputs": [
    {
     "data": {
      "text/html": [
       "<div>\n",
       "<style scoped>\n",
       "    .dataframe tbody tr th:only-of-type {\n",
       "        vertical-align: middle;\n",
       "    }\n",
       "\n",
       "    .dataframe tbody tr th {\n",
       "        vertical-align: top;\n",
       "    }\n",
       "\n",
       "    .dataframe thead th {\n",
       "        text-align: right;\n",
       "    }\n",
       "</style>\n",
       "<table border=\"1\" class=\"dataframe\">\n",
       "  <thead>\n",
       "    <tr style=\"text-align: right;\">\n",
       "      <th></th>\n",
       "      <th>ACTIVITY</th>\n",
       "      <th>total_per_user_pm</th>\n",
       "      <th>avg_per_user_pm</th>\n",
       "    </tr>\n",
       "  </thead>\n",
       "  <tbody>\n",
       "    <tr>\n",
       "      <th>0</th>\n",
       "      <td>24</td>\n",
       "      <td>64.0</td>\n",
       "      <td>4.000000</td>\n",
       "    </tr>\n",
       "    <tr>\n",
       "      <th>1</th>\n",
       "      <td>20</td>\n",
       "      <td>64.0</td>\n",
       "      <td>4.000000</td>\n",
       "    </tr>\n",
       "    <tr>\n",
       "      <th>2</th>\n",
       "      <td>18</td>\n",
       "      <td>330.0</td>\n",
       "      <td>7.333333</td>\n",
       "    </tr>\n",
       "    <tr>\n",
       "      <th>3</th>\n",
       "      <td>19</td>\n",
       "      <td>330.0</td>\n",
       "      <td>7.333333</td>\n",
       "    </tr>\n",
       "    <tr>\n",
       "      <th>4</th>\n",
       "      <td>23</td>\n",
       "      <td>330.0</td>\n",
       "      <td>7.333333</td>\n",
       "    </tr>\n",
       "  </tbody>\n",
       "</table>\n",
       "</div>"
      ],
      "text/plain": [
       "   ACTIVITY  total_per_user_pm  avg_per_user_pm\n",
       "0        24               64.0         4.000000\n",
       "1        20               64.0         4.000000\n",
       "2        18              330.0         7.333333\n",
       "3        19              330.0         7.333333\n",
       "4        23              330.0         7.333333"
      ]
     },
     "execution_count": 364,
     "metadata": {},
     "output_type": "execute_result"
    }
   ],
   "source": [
    "x.head()"
   ]
  },
  {
   "cell_type": "code",
   "execution_count": 365,
   "metadata": {},
   "outputs": [],
   "source": [
    "y_rf=clf.predict(test)\n",
    "y_xg=model.predict(test)"
   ]
  },
  {
   "cell_type": "code",
   "execution_count": 366,
   "metadata": {},
   "outputs": [],
   "source": [
    "result=pd.read_csv('problem-two-new-users.csv',header=None)\n",
    "result['pred']=y_xg\n",
    "result.to_csv('problem-two-answer.csv', header=False,index=False)"
   ]
  },
  {
   "cell_type": "code",
   "execution_count": 367,
   "metadata": {},
   "outputs": [],
   "source": [
    "r=pd.read_csv('problem-two-answer.csv',header=None)"
   ]
  },
  {
   "cell_type": "code",
   "execution_count": null,
   "metadata": {},
   "outputs": [],
   "source": []
  }
 ],
 "metadata": {
  "kernelspec": {
   "display_name": "Python 3",
   "language": "python",
   "name": "python3"
  },
  "language_info": {
   "codemirror_mode": {
    "name": "ipython",
    "version": 3
   },
   "file_extension": ".py",
   "mimetype": "text/x-python",
   "name": "python",
   "nbconvert_exporter": "python",
   "pygments_lexer": "ipython3",
   "version": "3.7.3"
  }
 },
 "nbformat": 4,
 "nbformat_minor": 2
}
